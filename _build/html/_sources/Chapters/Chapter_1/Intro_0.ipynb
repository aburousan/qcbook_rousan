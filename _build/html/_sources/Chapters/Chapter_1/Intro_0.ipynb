{
 "cells": [
  {
   "cell_type": "markdown",
   "id": "84861129",
   "metadata": {},
   "source": [
    "> Nature isn’t classical, dammit, and if you want to make a\n",
    "simulation of nature, you’d better make it quantum mechanical.\n",
    "\n",
    "– Richard Phillips Feynman"
   ]
  },
  {
   "cell_type": "markdown",
   "id": "5f066723",
   "metadata": {},
   "source": [
    "# Chapter 0 : Preliminary Ideas"
   ]
  },
  {
   "cell_type": "markdown",
   "id": "cb176401",
   "metadata": {},
   "source": [
    "## Introduction"
   ]
  },
  {
   "cell_type": "markdown",
   "id": "0051574d",
   "metadata": {},
   "source": [
    "<span style=\"color:pink\">**Quantum Computing**</span> is one of most famous terms in modern era. If someone is a little bit interested in computational field, I am sure they have came across this term. But what is\n",
    "**Quantum Computing**?\n",
    "Quantum Computing is a type of computation where we use the power of quantum mechanics (eg: use ideas such as **superposition**, **interference**, **entanglement** etc). Devices\n",
    "that perform quantum computations are known as **Quantum Computers**.\n",
    "```{figure} /Images/meme1.png\n",
    "---\n",
    "height: 300px\n",
    "name: meme1\n",
    "---\n",
    "A famous meme which shows a bit of general public’s view on Quantum Computers. This want to tell that in classical computer we only have 0 or 1 but in quantum computer we have $a|0 \\rangle +b|1 \\rangle$.\n",
    "```\n",
    "But why do we need these type of devices?, The classical or modern computers are doing just fine. These devices can actually simulate atomic structures, planetary motions, fluid dy-\n",
    "namics and many more things. The main reason is that **Quantum Computers** have the potential to revolutionize computation by making certain types of classically intractable problems solvable.\n",
    "\n",
    "The best example of this is the **Shor’s Algorithm** which let us factorise a number $N$ with a complexity of $O(\\log(N))$. For Classical Computers, it is not possible, even in dreams.\n",
    "\n",
    "Another such example is **Grover’s Algorithm**. This is a search algorithm for unsorted list, with a complexity of $\\sqrt{O(N)}$, where in classical computers the complexity is $O(N)$.\n",
    "This is not all. Due to the nature of [**Hilbert Space**](https://www.researchgate.net/publication/345863644_Introduction_to_Hilbert_Space_and_it%27s_brief_description_in_Quantum_Mechanics) and **classical bits**, the Classical Computers need much more time and memeory to simulate time evolutions of quantum systems, but the same thing can be done very easily in quantum computers.\n",
    "\n",
    "As, discussed there are so many advantages of Quantum Com-\n",
    "puters over classical ones (in some cases). **But how the very\n",
    "idea came into the existence?**"
   ]
  },
  {
   "cell_type": "markdown",
   "id": "5d7e6f0d",
   "metadata": {},
   "source": [
    "## Content of the Book\n",
    "I will suggest everyone to follow this book as shown in the diagram. This will be helpful.\n",
    "```{mermaid}\n",
    "flowchart TB\n",
    "    A[\"Introduction of QC\"]-->B1[\"Historical Development of QC\"]\n",
    "    A[\"Introduction of QC\"]-->B2[\"Preliminary Ideas\"]\n",
    "    B1[\"Historical Development of QC\"]-->B2[\"Preliminary Ideas\"]\n",
    "    B2[\"Preliminary Ideas\"]-->C1[\"Introduction to Linear Algebra\"]\n",
    "    C1[\"Introduction to Linear Algebra\"]-->C2[\"Introduction to Basic QM\"]\n",
    "    B2[\"Preliminary Ideas\"]-->C2[\"Introduction to Basic QM\"]\n",
    "    C2[\"Introduction to Basic QM\"]-->D1[\"Basics of Quantum Gates & Circuits\"]\n",
    "    D1[\"Basics of Quantum Gates & Circuits\"]-->D2[\"Quantum Algorithms\"]\n",
    "    D2[\"Quantum Algorithms\"]-->ID2[\"Quantum Computers Physical Realization\"]\n",
    "    subgraph ide1 [Optional but Important]\n",
    "    ID1[\"Statistical Mechanics and Entropy\"]-->ID2[\"Quantum Computers Physical Realization\"]\n",
    "    end\n",
    "    C2[\"Introduction to Basic QM\"]-->ID1[\"Statistical Mechanics and Entropy\"]\n",
    "    D2[\"Quantum Algorithms\"]-->E1[\"Quantum Error and Corrrections\"]\n",
    "    ID2[\"Quantum Computers Physical Realization\"]-->E1[\"Quantum Error and Corrrections\"]\n",
    "```"
   ]
  },
  {
   "cell_type": "markdown",
   "id": "113a36ca",
   "metadata": {},
   "source": [
    "If someone has any suggestion feel free to contact me kaziaburousan@gmail.com"
   ]
  }
 ],
 "metadata": {
  "kernelspec": {
   "display_name": "Python 3 (ipykernel)",
   "language": "python",
   "name": "python3"
  },
  "language_info": {
   "codemirror_mode": {
    "name": "ipython",
    "version": 3
   },
   "file_extension": ".py",
   "mimetype": "text/x-python",
   "name": "python",
   "nbconvert_exporter": "python",
   "pygments_lexer": "ipython3",
   "version": "3.10.10"
  }
 },
 "nbformat": 4,
 "nbformat_minor": 5
}
