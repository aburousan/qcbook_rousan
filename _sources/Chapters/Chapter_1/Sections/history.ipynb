{
 "cells": [
  {
   "cell_type": "markdown",
   "id": "eb30e466",
   "metadata": {},
   "source": [
    "# Beginning of the age of Quantum Computing"
   ]
  },
  {
   "cell_type": "markdown",
   "id": "0ced26af",
   "metadata": {},
   "source": [
    "It all starts from the development of Quantum Information. The fact that classical information can very easily be analysed using normal computer is a well-known fact. But when people see that using quantum mechanics in information and technology gives much more advantage, people tried to shift into that.\n",
    "\n",
    "This started with **Stratonovich**, **Helstrom** and **Gordon**,when they proposed a formulation of optical communications using quantum mechanics in 1960’s. These ideas developed further and in the 1970s, techniques for manipulating single-atom quantum states, such as the atom trap and the scanning tunneling microscope, began to be developed, making it possible to isolate single atoms and arrange them in arrays. The development of viable single-state manipulation techniques led to increased interest in the field of quantum information and computation.\n",
    "```{figure} /Images/Trapped_Ion.png\n",
    "---\n",
    "height: 300px\n",
    "name: Trapped_Ion\n",
    "---\n",
    "Schematic diagram for Trapping a Single Atom.\n",
    "```\n",
    "Later **Roman Stanistaw Ingarden** in 1976, tried to give a detailed Quantum Information Theory in his seminar paper \"Quantum Information Theory\" . In this article he discussed how can we correlate between classical and Quantum information theory.\n",
    "```{admonition} Roman S. Ingaren Article\n",
    "[Roman S.Ingarden, Quantum Information Theory, Reports on Mathematical Physics, Vol 10, Issue 1, 43-72 (1976)](https://doi.org/10.1016/0034-4877(76)90005-7)\n",
    "```\n",
    "In 1980, **Paul Benioff**, a young physicist at Argonne National Labs, discussed how one can **Quantum Turing machine** in the paper “The computer as a physical system: A microscopic quantum mechanical Hamiltonian model of computers as represented by Turing machines\".\n",
    "```{admonition} Paul Benioff Article\n",
    "[Paul Benioff , The Computer as a Physical System: A Microscopic Quantum Mechanical Hamiltonian Model of Computers as Represented by Turing Machines, Journal of Statistical Physics, Vol 22, No. 5, 563-591(1980)](https://doi.org/10.1007/BF01011339)\n",
    "```\n",
    "This are still developing ideas of information theory. This were still far from the focus of the physics world. It all starts as digital computers became faster, physicists struggled with an exponential overhead when simulating quantum dynamics, and **Yuri Manin** and **Richard Feynman** independently suggested that a computer simulation may be more efficient\n",
    "using hardware designed around quantum phenomena; that is, computers may gain an advantage by manipulating quantum information.\n",
    "\n",
    "**Yuri Manin** also laid out the core idea of quantum computing in his 1980 book \"Computable and Non-Computable\". The book was written in Russian, however, and only translated years later.\n",
    "```{admonition} Yuri Manin Article\n",
    "Yu. I. Manin, Computable and Non-Computable, Sovetskoe Radio, Moscow, 1980.\n",
    "```\n",
    "Later, **Feynman**(Fine Man!!!!) in 1981, talked about how a quantum machine can do wonders in his speech titled \"Simulating Physics with Computers\" . With this much more people get their focus on this new topic.\n",
    "```{admonition} Feynman Article\n",
    "[Richard P. Feynman, Simulating physics with computers, International Journal of Theoretical Physics 21, 467–488(1982)](https://doi.org/10.1007/BF02650179)\n",
    "```"
   ]
  },
  {
   "cell_type": "markdown",
   "id": "1f23a326",
   "metadata": {},
   "source": [
    "Once Benioff, Manin and Feynman opened the doors, researchers began to investigate the nature of the algorithms that could be run on Quantum Computers. **David Deutsch**, a physicist at Oxford, suggested a more comprehensive framework for quantum computing in his 1985 paper.\n",
    "```{admonition} David Deutsch Article\n",
    "[D. Deutsch, Quantum theory, the Church–Turing principle and the universal quantum computer, Proceedings of the Royal Society of London A: Mathematical, Physical and Engineering Sciences, 97-117(1818)](https://doi.org/10.1098/rspa.1985.0070)\n",
    "```\n",
    "In this work, he describes in detail what a quantum algorithm would look like and anticipates that one day it will become technologically possible to build quantum computers.\n",
    "\n",
    "After this many remarkable works have been done in this field. But after this the most remarkable one is the work done by **Peter Shor** in 1994.\n",
    "```{admonition} Peter Shor\n",
    "[Peter Shor, Polynomial-Time Algorithms for Prime Factorization and Discrete Logarithms on a Quantum Computer, (1995)](https://doi.org/10.48550/arXiv.quant-ph/9508027)\n",
    "```\n",
    "Shor was a researcher in the mathematical division of Bell Labs in New Jersey. Shor studied the work of Deutsch, BV\n",
    "and Simon and realized he could construct an algorithm for factoring large numbers into two **prime factors**; factoring large numbers is believed to be intractable on a classical com-\n",
    "puter, but Shor’s factoring algorithm6 runs quickly on a QC. \n",
    "```{figure} /Images/Shor_alg_N_15.png\n",
    "---\n",
    "height: 300px\n",
    "name: Shor_alg_N_15\n",
    "---\n",
    "Implementation of Shor’s Algorithm for $N = 15$.\n",
    "```\n",
    "Factoring large numbers is, of course, the intentionally hard problem at the core of **public key cryptography** (PKC) as implemented in the RSA algorithm, the kind of cryptography that is the basis of almost all communications today over the internet. This includes securely sending credit card numbers, bank payments and ensuring the security messages.\n",
    "\n",
    "There are many more algorithm’s (one of the famous one is **Grover’s Algorithm** ) which shows us how efficient and fast can quantum algorithms become. Not just this things, but we can also simulate Molecules using quantum computers.\n",
    "\n",
    "The **Variational Quantum Eigensolver** (VQE) is a flagship algorithm for quantum chemistry using near-term quantum computers. It is an application of the Ritz variational principle, where a quantum computer is trained to prepare the ground state of a given molecule. It’s really surprising how just a simple idea which was just a dream at some point, can give us this much accurate results. This is not all, we can also have Quantum Teleportation using Quantum computing. The objects of science fiction is not a imagination anymore."
   ]
  },
  {
   "cell_type": "markdown",
   "id": "7d0fbe0f",
   "metadata": {},
   "source": [
    "We have learnt the journy of the great people, how they developed the idea of simple information and technology to the point where we can build Quantum Computers. Although, these machines are not still that good. But they will develop slowly, but surely and one day we can really relay on them.\n",
    "\n",
    "With this let's let our history discussion (I really hate this part). Let's now begin our real juicy parts."
   ]
  }
 ],
 "metadata": {
  "kernelspec": {
   "display_name": "Python 3 (ipykernel)",
   "language": "python",
   "name": "python3"
  },
  "language_info": {
   "codemirror_mode": {
    "name": "ipython",
    "version": 3
   },
   "file_extension": ".py",
   "mimetype": "text/x-python",
   "name": "python",
   "nbconvert_exporter": "python",
   "pygments_lexer": "ipython3",
   "version": "3.10.10"
  }
 },
 "nbformat": 4,
 "nbformat_minor": 5
}
